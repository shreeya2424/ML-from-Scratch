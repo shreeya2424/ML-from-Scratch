{
 "cells": [
  {
   "cell_type": "markdown",
   "id": "31afd572",
   "metadata": {},
   "source": [
    "# Logistic Regression \n",
    "\n",
    "Logistic Regression is a statistical method for binary classification problems. It predicts the probability of an instance belonging to a particular class using the **sigmoid function**. The sigmoid function maps input values to a range between 0 and 1:\n",
    "\n",
    "$\n",
    "\\sigma(z) = \\frac{1}{1 + e^{-z}}\n",
    "$\n",
    "\n",
    "Where:  \n",
    "- z : Xw + b  \n",
    "-  x : Input feature(s).  \n",
    "-  w : Weight (slope of the line).  \n",
    "-  b : Bias (y-intercept). \n",
    "\n",
    "### Binary Classification\n",
    "For binary classification, logistic regression predicts probabilities and applies a threshold (e.g., 0.5) to classify instances as either class 0 or 1. If value that the sigmoid function generates is higher than the threshold, model predicts 1, and if its less than the threshold, model predicts it to be 0.\n",
    "\n"
   ]
  },
  {
   "cell_type": "markdown",
   "id": "3cd9e2d4",
   "metadata": {},
   "source": [
    "#### Weights and Bias\n",
    "\n",
    "- Weights measure the impact of each input feature. Larger weights indicate stronger influence of the feature.  \n",
    "- Bias ensures the model can fit the data correctly even when all input features are zero. It adjusts the output to align with the target.\n",
    "\n",
    "With each iteration, the values of weights and bias get updated until they reach optimal values."
   ]
  },
  {
   "cell_type": "markdown",
   "id": "492cd239",
   "metadata": {},
   "source": [
    "#### Updating values using Gradient Descent\n",
    "\n",
    "Update weight ( w ): \n",
    "  $$ w \\leftarrow w - \\eta \\cdot \\frac{\\partial L}{\\partial w} $$\n",
    "\n",
    "Update bias ( b ):  \n",
    "  $$ b \\leftarrow b - \\eta \\cdot \\frac{\\partial L}{\\partial b} $$\n",
    "Where:  \n",
    "- $\\eta $: Learning rate (controls the step size of parameter updates).  \n",
    "- $\\frac{\\partial L}{\\partial w} $: Gradient of loss with respect to \\( w \\).  \n",
    "- $\\frac{\\partial L}{\\partial b} $: Gradient of loss with respect to \\( b \\)."
   ]
  },
  {
   "cell_type": "markdown",
   "id": "37bb2d6f",
   "metadata": {},
   "source": [
    "Gradients:<br>\n",
    "$ dw = \\frac{1}{m} \\cdot X^T (\\hat{y} - Y) $\n",
    "\n",
    " $ db = \\frac{1}{m} \\cdot \\sum (\\hat{y} - Y) $\n",
    "\n",
    "\n"
   ]
  },
  {
   "cell_type": "markdown",
   "id": "4a691cc1",
   "metadata": {},
   "source": [
    "### Workflow to train the model\n",
    "1. **Initialize**  \n",
    "   Initialize **w** and **b** (often to 0 or small random values).\n",
    "\n",
    "2. **Compute Predictions**  \n",
    " $\n",
    "\\sigma(z) = \\frac{1}{1 + e^{-z}}\n",
    "$\n",
    "\n",
    "3. **Calculate Loss Function and Gradients**  \n",
    "   $\n",
    "   \\frac{\\partial L}{\\partial w}, \\frac{\\partial L}{\\partial b}\n",
    "  $\n",
    "\n",
    "5. **Update Parameters**  \n",
    "   Update **w** and **b** using gradient descent formulas.\n",
    "\n",
    "6. **Repeat**  \n",
    "   Repeat for the specified number of iterations or until convergence."
   ]
  },
  {
   "cell_type": "code",
   "execution_count": 140,
   "id": "f05a1242",
   "metadata": {},
   "outputs": [],
   "source": [
    "import numpy as np"
   ]
  },
  {
   "cell_type": "code",
   "execution_count": 141,
   "id": "129b4444",
   "metadata": {},
   "outputs": [],
   "source": [
    "class Logistic_Regression():\n",
    "    \n",
    "    def __init__(self, learning_rate, num_of_iterations):\n",
    "        self.learning_rate=learning_rate\n",
    "        self.num_of_iterations=num_of_iterations\n",
    "        \n",
    "    def fit(self,X,Y):\n",
    "        self.m,self.n=X.shape # m-> num of rows, n-> features\n",
    "        self.w= np.zeros(self.n)\n",
    "        self.b=0\n",
    "        self.X=X\n",
    "        self.Y=Y\n",
    "        \n",
    "        # implementing Gradient Descent for Optimization\n",
    "        for i in range(self.num_of_iterations):\n",
    "            self.update_weights()\n",
    "            \n",
    "    def update_weights(self):\n",
    "        y_hat= 1/(1+np.exp(-(self.X.dot(self.w)+ self.b)))\n",
    "        \n",
    "        # calculate gradients dw and db\n",
    "        dw= (1/self.m)*np.dot(self.X.T,(y_hat-self.Y))\n",
    "        db= (1/self.m)*np.sum(y_hat-self.Y)\n",
    "        \n",
    "        # updating the weights and bias\n",
    "        self.w=self.w- self.learning_rate*dw\n",
    "        self.b=self.b-self.learning_rate*db\n",
    "        \n",
    "    def predict(self,X): \n",
    "        y_pred= 1/(1+np.exp(-(X.dot(self.w)+ self.b)))\n",
    "        y_pred=np.where( y_pred>1.5,1,0)\n",
    "        return y_pred"
   ]
  },
  {
   "cell_type": "code",
   "execution_count": 142,
   "id": "5d0e8887",
   "metadata": {},
   "outputs": [],
   "source": [
    "import pandas as pd\n",
    "from sklearn.preprocessing import StandardScaler\n",
    "from sklearn.model_selection import train_test_split\n",
    "from sklearn.metrics import accuracy_score"
   ]
  },
  {
   "cell_type": "code",
   "execution_count": 143,
   "id": "879021d7",
   "metadata": {},
   "outputs": [],
   "source": [
    "data=pd.read_csv(\"diabetes_data.csv\")"
   ]
  },
  {
   "cell_type": "markdown",
   "id": "1535dd93",
   "metadata": {},
   "source": [
    "### Data Preprocessing"
   ]
  },
  {
   "cell_type": "code",
   "execution_count": 144,
   "id": "f0096005",
   "metadata": {},
   "outputs": [
    {
     "data": {
      "text/html": [
       "<div>\n",
       "<style scoped>\n",
       "    .dataframe tbody tr th:only-of-type {\n",
       "        vertical-align: middle;\n",
       "    }\n",
       "\n",
       "    .dataframe tbody tr th {\n",
       "        vertical-align: top;\n",
       "    }\n",
       "\n",
       "    .dataframe thead th {\n",
       "        text-align: right;\n",
       "    }\n",
       "</style>\n",
       "<table border=\"1\" class=\"dataframe\">\n",
       "  <thead>\n",
       "    <tr style=\"text-align: right;\">\n",
       "      <th></th>\n",
       "      <th>Pregnancies</th>\n",
       "      <th>Glucose</th>\n",
       "      <th>BloodPressure</th>\n",
       "      <th>SkinThickness</th>\n",
       "      <th>Insulin</th>\n",
       "      <th>BMI</th>\n",
       "      <th>DiabetesPedigreeFunction</th>\n",
       "      <th>Age</th>\n",
       "      <th>Outcome</th>\n",
       "    </tr>\n",
       "  </thead>\n",
       "  <tbody>\n",
       "    <tr>\n",
       "      <th>0</th>\n",
       "      <td>6</td>\n",
       "      <td>148</td>\n",
       "      <td>72</td>\n",
       "      <td>35</td>\n",
       "      <td>0</td>\n",
       "      <td>33.6</td>\n",
       "      <td>0.627</td>\n",
       "      <td>50</td>\n",
       "      <td>1</td>\n",
       "    </tr>\n",
       "    <tr>\n",
       "      <th>1</th>\n",
       "      <td>1</td>\n",
       "      <td>85</td>\n",
       "      <td>66</td>\n",
       "      <td>29</td>\n",
       "      <td>0</td>\n",
       "      <td>26.6</td>\n",
       "      <td>0.351</td>\n",
       "      <td>31</td>\n",
       "      <td>0</td>\n",
       "    </tr>\n",
       "    <tr>\n",
       "      <th>2</th>\n",
       "      <td>8</td>\n",
       "      <td>183</td>\n",
       "      <td>64</td>\n",
       "      <td>0</td>\n",
       "      <td>0</td>\n",
       "      <td>23.3</td>\n",
       "      <td>0.672</td>\n",
       "      <td>32</td>\n",
       "      <td>1</td>\n",
       "    </tr>\n",
       "    <tr>\n",
       "      <th>3</th>\n",
       "      <td>1</td>\n",
       "      <td>89</td>\n",
       "      <td>66</td>\n",
       "      <td>23</td>\n",
       "      <td>94</td>\n",
       "      <td>28.1</td>\n",
       "      <td>0.167</td>\n",
       "      <td>21</td>\n",
       "      <td>0</td>\n",
       "    </tr>\n",
       "    <tr>\n",
       "      <th>4</th>\n",
       "      <td>0</td>\n",
       "      <td>137</td>\n",
       "      <td>40</td>\n",
       "      <td>35</td>\n",
       "      <td>168</td>\n",
       "      <td>43.1</td>\n",
       "      <td>2.288</td>\n",
       "      <td>33</td>\n",
       "      <td>1</td>\n",
       "    </tr>\n",
       "  </tbody>\n",
       "</table>\n",
       "</div>"
      ],
      "text/plain": [
       "   Pregnancies  Glucose  BloodPressure  SkinThickness  Insulin   BMI  \\\n",
       "0            6      148             72             35        0  33.6   \n",
       "1            1       85             66             29        0  26.6   \n",
       "2            8      183             64              0        0  23.3   \n",
       "3            1       89             66             23       94  28.1   \n",
       "4            0      137             40             35      168  43.1   \n",
       "\n",
       "   DiabetesPedigreeFunction  Age  Outcome  \n",
       "0                     0.627   50        1  \n",
       "1                     0.351   31        0  \n",
       "2                     0.672   32        1  \n",
       "3                     0.167   21        0  \n",
       "4                     2.288   33        1  "
      ]
     },
     "execution_count": 144,
     "metadata": {},
     "output_type": "execute_result"
    }
   ],
   "source": [
    "data.head(5)"
   ]
  },
  {
   "cell_type": "code",
   "execution_count": 145,
   "id": "83106060",
   "metadata": {},
   "outputs": [
    {
     "data": {
      "text/plain": [
       "(768, 9)"
      ]
     },
     "execution_count": 145,
     "metadata": {},
     "output_type": "execute_result"
    }
   ],
   "source": [
    "data.shape"
   ]
  },
  {
   "cell_type": "code",
   "execution_count": 146,
   "id": "af02d723",
   "metadata": {},
   "outputs": [
    {
     "name": "stdout",
     "output_type": "stream",
     "text": [
      "<class 'pandas.core.frame.DataFrame'>\n",
      "RangeIndex: 768 entries, 0 to 767\n",
      "Data columns (total 9 columns):\n",
      " #   Column                    Non-Null Count  Dtype  \n",
      "---  ------                    --------------  -----  \n",
      " 0   Pregnancies               768 non-null    int64  \n",
      " 1   Glucose                   768 non-null    int64  \n",
      " 2   BloodPressure             768 non-null    int64  \n",
      " 3   SkinThickness             768 non-null    int64  \n",
      " 4   Insulin                   768 non-null    int64  \n",
      " 5   BMI                       768 non-null    float64\n",
      " 6   DiabetesPedigreeFunction  768 non-null    float64\n",
      " 7   Age                       768 non-null    int64  \n",
      " 8   Outcome                   768 non-null    int64  \n",
      "dtypes: float64(2), int64(7)\n",
      "memory usage: 54.1 KB\n"
     ]
    }
   ],
   "source": [
    "data.info()"
   ]
  },
  {
   "cell_type": "markdown",
   "id": "5b800803",
   "metadata": {},
   "source": [
    "The dataset contains no null values\n"
   ]
  },
  {
   "cell_type": "markdown",
   "id": "5e7653b2",
   "metadata": {},
   "source": [
    "#### Data Standardization\n",
    "Transform data to ensure that features have a mean of 0 and a standard deviation of 1.This ensures that features are scaled appropriately for algorithms that are sensitive to feature magnitudes, such as gradient descent-based methods."
   ]
  },
  {
   "cell_type": "code",
   "execution_count": 147,
   "id": "7fd02b32",
   "metadata": {},
   "outputs": [
    {
     "data": {
      "text/html": [
       "<style>#sk-container-id-8 {color: black;}#sk-container-id-8 pre{padding: 0;}#sk-container-id-8 div.sk-toggleable {background-color: white;}#sk-container-id-8 label.sk-toggleable__label {cursor: pointer;display: block;width: 100%;margin-bottom: 0;padding: 0.3em;box-sizing: border-box;text-align: center;}#sk-container-id-8 label.sk-toggleable__label-arrow:before {content: \"▸\";float: left;margin-right: 0.25em;color: #696969;}#sk-container-id-8 label.sk-toggleable__label-arrow:hover:before {color: black;}#sk-container-id-8 div.sk-estimator:hover label.sk-toggleable__label-arrow:before {color: black;}#sk-container-id-8 div.sk-toggleable__content {max-height: 0;max-width: 0;overflow: hidden;text-align: left;background-color: #f0f8ff;}#sk-container-id-8 div.sk-toggleable__content pre {margin: 0.2em;color: black;border-radius: 0.25em;background-color: #f0f8ff;}#sk-container-id-8 input.sk-toggleable__control:checked~div.sk-toggleable__content {max-height: 200px;max-width: 100%;overflow: auto;}#sk-container-id-8 input.sk-toggleable__control:checked~label.sk-toggleable__label-arrow:before {content: \"▾\";}#sk-container-id-8 div.sk-estimator input.sk-toggleable__control:checked~label.sk-toggleable__label {background-color: #d4ebff;}#sk-container-id-8 div.sk-label input.sk-toggleable__control:checked~label.sk-toggleable__label {background-color: #d4ebff;}#sk-container-id-8 input.sk-hidden--visually {border: 0;clip: rect(1px 1px 1px 1px);clip: rect(1px, 1px, 1px, 1px);height: 1px;margin: -1px;overflow: hidden;padding: 0;position: absolute;width: 1px;}#sk-container-id-8 div.sk-estimator {font-family: monospace;background-color: #f0f8ff;border: 1px dotted black;border-radius: 0.25em;box-sizing: border-box;margin-bottom: 0.5em;}#sk-container-id-8 div.sk-estimator:hover {background-color: #d4ebff;}#sk-container-id-8 div.sk-parallel-item::after {content: \"\";width: 100%;border-bottom: 1px solid gray;flex-grow: 1;}#sk-container-id-8 div.sk-label:hover label.sk-toggleable__label {background-color: #d4ebff;}#sk-container-id-8 div.sk-serial::before {content: \"\";position: absolute;border-left: 1px solid gray;box-sizing: border-box;top: 0;bottom: 0;left: 50%;z-index: 0;}#sk-container-id-8 div.sk-serial {display: flex;flex-direction: column;align-items: center;background-color: white;padding-right: 0.2em;padding-left: 0.2em;position: relative;}#sk-container-id-8 div.sk-item {position: relative;z-index: 1;}#sk-container-id-8 div.sk-parallel {display: flex;align-items: stretch;justify-content: center;background-color: white;position: relative;}#sk-container-id-8 div.sk-item::before, #sk-container-id-8 div.sk-parallel-item::before {content: \"\";position: absolute;border-left: 1px solid gray;box-sizing: border-box;top: 0;bottom: 0;left: 50%;z-index: -1;}#sk-container-id-8 div.sk-parallel-item {display: flex;flex-direction: column;z-index: 1;position: relative;background-color: white;}#sk-container-id-8 div.sk-parallel-item:first-child::after {align-self: flex-end;width: 50%;}#sk-container-id-8 div.sk-parallel-item:last-child::after {align-self: flex-start;width: 50%;}#sk-container-id-8 div.sk-parallel-item:only-child::after {width: 0;}#sk-container-id-8 div.sk-dashed-wrapped {border: 1px dashed gray;margin: 0 0.4em 0.5em 0.4em;box-sizing: border-box;padding-bottom: 0.4em;background-color: white;}#sk-container-id-8 div.sk-label label {font-family: monospace;font-weight: bold;display: inline-block;line-height: 1.2em;}#sk-container-id-8 div.sk-label-container {text-align: center;}#sk-container-id-8 div.sk-container {/* jupyter's `normalize.less` sets `[hidden] { display: none; }` but bootstrap.min.css set `[hidden] { display: none !important; }` so we also need the `!important` here to be able to override the default hidden behavior on the sphinx rendered scikit-learn.org. See: https://github.com/scikit-learn/scikit-learn/issues/21755 */display: inline-block !important;position: relative;}#sk-container-id-8 div.sk-text-repr-fallback {display: none;}</style><div id=\"sk-container-id-8\" class=\"sk-top-container\"><div class=\"sk-text-repr-fallback\"><pre>StandardScaler()</pre><b>In a Jupyter environment, please rerun this cell to show the HTML representation or trust the notebook. <br />On GitHub, the HTML representation is unable to render, please try loading this page with nbviewer.org.</b></div><div class=\"sk-container\" hidden><div class=\"sk-item\"><div class=\"sk-estimator sk-toggleable\"><input class=\"sk-toggleable__control sk-hidden--visually\" id=\"sk-estimator-id-8\" type=\"checkbox\" checked><label for=\"sk-estimator-id-8\" class=\"sk-toggleable__label sk-toggleable__label-arrow\">StandardScaler</label><div class=\"sk-toggleable__content\"><pre>StandardScaler()</pre></div></div></div></div></div>"
      ],
      "text/plain": [
       "StandardScaler()"
      ]
     },
     "execution_count": 147,
     "metadata": {},
     "output_type": "execute_result"
    }
   ],
   "source": [
    "scaler=StandardScaler()\n",
    "features=data.drop(columns = 'Outcome', axis=1)\n",
    "features=np.asarray(features)\n",
    "scaler.fit(features)"
   ]
  },
  {
   "cell_type": "code",
   "execution_count": 148,
   "id": "a6eed1e4",
   "metadata": {},
   "outputs": [],
   "source": [
    "std_data = scaler.transform(features)"
   ]
  },
  {
   "cell_type": "code",
   "execution_count": 149,
   "id": "fbb495d3",
   "metadata": {},
   "outputs": [
    {
     "data": {
      "text/plain": [
       "array([[ 0.63994726,  0.84832379,  0.14964075, ...,  0.20401277,\n",
       "         0.46849198,  1.4259954 ],\n",
       "       [-0.84488505, -1.12339636, -0.16054575, ..., -0.68442195,\n",
       "        -0.36506078, -0.19067191],\n",
       "       [ 1.23388019,  1.94372388, -0.26394125, ..., -1.10325546,\n",
       "         0.60439732, -0.10558415],\n",
       "       ...,\n",
       "       [ 0.3429808 ,  0.00330087,  0.14964075, ..., -0.73518964,\n",
       "        -0.68519336, -0.27575966],\n",
       "       [-0.84488505,  0.1597866 , -0.47073225, ..., -0.24020459,\n",
       "        -0.37110101,  1.17073215],\n",
       "       [-0.84488505, -0.8730192 ,  0.04624525, ..., -0.20212881,\n",
       "        -0.47378505, -0.87137393]])"
      ]
     },
     "execution_count": 149,
     "metadata": {},
     "output_type": "execute_result"
    }
   ],
   "source": [
    "std_data"
   ]
  },
  {
   "cell_type": "markdown",
   "id": "312f4ce2",
   "metadata": {},
   "source": [
    "#### Splitting data into Feature and Target "
   ]
  },
  {
   "cell_type": "code",
   "execution_count": 150,
   "id": "cd8ed9b3",
   "metadata": {},
   "outputs": [],
   "source": [
    "features = std_data\n",
    "target = data['Outcome']"
   ]
  },
  {
   "cell_type": "code",
   "execution_count": 151,
   "id": "71434700",
   "metadata": {},
   "outputs": [
    {
     "data": {
      "text/plain": [
       "0    500\n",
       "1    268\n",
       "Name: Outcome, dtype: int64"
      ]
     },
     "execution_count": 151,
     "metadata": {},
     "output_type": "execute_result"
    }
   ],
   "source": [
    "target.value_counts()"
   ]
  },
  {
   "cell_type": "markdown",
   "id": "fe2cdd86",
   "metadata": {},
   "source": [
    "0 --> Non-Diabetic\n",
    "\n",
    "1 --> Diabetic"
   ]
  },
  {
   "cell_type": "code",
   "execution_count": 152,
   "id": "8ea2401c",
   "metadata": {},
   "outputs": [],
   "source": [
    "#splitting features and target into testing and training sets, with 20% test data size.\n",
    "X_train, X_test, Y_train, Y_test = train_test_split(features,target, test_size = 0.2, random_state=2)"
   ]
  },
  {
   "cell_type": "markdown",
   "id": "08934f69",
   "metadata": {},
   "source": [
    "### Building and training model"
   ]
  },
  {
   "cell_type": "code",
   "execution_count": 153,
   "id": "310d6cde",
   "metadata": {},
   "outputs": [],
   "source": [
    "model =Logistic_Regression(learning_rate=0.01, num_of_iterations=1000)"
   ]
  },
  {
   "cell_type": "code",
   "execution_count": 154,
   "id": "952ae3af",
   "metadata": {},
   "outputs": [],
   "source": [
    "model.fit(X_train, Y_train)"
   ]
  },
  {
   "cell_type": "code",
   "execution_count": 155,
   "id": "589483db",
   "metadata": {},
   "outputs": [
    {
     "name": "stdout",
     "output_type": "stream",
     "text": [
      "weight =  [ 0.33983533  0.8123933  -0.12115335  0.03903535  0.00811976  0.47139923\n",
      "  0.25171989  0.20708692]\n",
      "bias =  -0.6013010748260914\n"
     ]
    }
   ],
   "source": [
    "# printing the values weight & bias\n",
    "print('weight = ', model.w)\n",
    "print('bias = ', model.b)"
   ]
  },
  {
   "cell_type": "markdown",
   "id": "19cc1993",
   "metadata": {},
   "source": [
    "A negative weight indicates that the corresponding feature has an inverse relationship with the output. As the value of the feature increases, the predicted probability for the positive class decreases.\n",
    "A negative bias suggests the model is more likely to predict the negative class when the features don't provide strong evidence for the positive class."
   ]
  },
  {
   "cell_type": "markdown",
   "id": "cbd5cacc",
   "metadata": {},
   "source": [
    "#### Checking model accuracy on test data"
   ]
  },
  {
   "cell_type": "code",
   "execution_count": 156,
   "id": "b207e437",
   "metadata": {},
   "outputs": [
    {
     "name": "stdout",
     "output_type": "stream",
     "text": [
      "Accuracy score of the test data : 0.71\n"
     ]
    }
   ],
   "source": [
    "X_test_prediction =model.predict(X_test)\n",
    "test_data_accuracy = accuracy_score( Y_test, X_test_prediction)\n",
    "print(f'Accuracy score of the test data : {test_data_accuracy:.2f}')"
   ]
  },
  {
   "cell_type": "markdown",
   "id": "f516bfb4",
   "metadata": {},
   "source": [
    "#### Checking model prediction on new data"
   ]
  },
  {
   "cell_type": "code",
   "execution_count": 157,
   "id": "234ed72a",
   "metadata": {},
   "outputs": [
    {
     "name": "stdout",
     "output_type": "stream",
     "text": [
      "The person is not diabetic\n"
     ]
    }
   ],
   "source": [
    "input_data = (5,166,72,19,175,25.8,0.587,51)\n",
    "input_data_as_numpy_array = np.asarray(input_data)\n",
    "\n",
    "# reshape the array as we are predicting for one instance\n",
    "input_data_reshaped = input_data_as_numpy_array.reshape(1,-1)\n",
    "\n",
    "# standardize the input data\n",
    "std_new_data = scaler.transform(input_data_reshaped)\n",
    "\n",
    "prediction = model.predict(std_new_data)\n",
    "\n",
    "if (prediction[0] == 0):\n",
    "  print('The person is not diabetic')\n",
    "else:\n",
    "  print('The person is diabetic')"
   ]
  },
  {
   "cell_type": "markdown",
   "id": "a0356e42",
   "metadata": {},
   "source": [
    "### Comparing with sklearns's LogisticRegression\n",
    "Scikit-learn's LogisticRegression does not use gradient descent by default to fit the model. Instead, it uses optimization techniques such as liblinear, newton-cg, lbfgs, or saga, which are more advanced and efficient for logistic regression."
   ]
  },
  {
   "cell_type": "code",
   "execution_count": 158,
   "id": "03e5e443",
   "metadata": {},
   "outputs": [],
   "source": [
    "from sklearn.linear_model import LogisticRegression\n",
    "\n",
    "model2= LogisticRegression()\n",
    "model2.fit(X_train,Y_train)\n",
    "predictions = model2.predict(X_test)"
   ]
  },
  {
   "cell_type": "code",
   "execution_count": 159,
   "id": "90c6b9f5",
   "metadata": {},
   "outputs": [
    {
     "name": "stdout",
     "output_type": "stream",
     "text": [
      "Accuracy score of the developed model : 0.71\n",
      "Accuracy score of sklearn's model: 0.77\n"
     ]
    }
   ],
   "source": [
    "from sklearn.metrics import accuracy_score\n",
    "\n",
    "# Predicted values\n",
    "y_pred = model.predict(X_test)\n",
    "\n",
    "# Calculate accuracy\n",
    "accuracy = accuracy_score(Y_test,predictions)\n",
    "\n",
    "print(f'Accuracy score of the developed model : {test_data_accuracy:.2f}')\n",
    "print(f\"Accuracy score of sklearn's model: {accuracy:.2f}\")\n"
   ]
  },
  {
   "cell_type": "markdown",
   "id": "4be47cae",
   "metadata": {},
   "source": [
    "#### How weights influence importance of a feature\n",
    "Check the feature importance graph, and the weights."
   ]
  },
  {
   "cell_type": "code",
   "execution_count": 173,
   "id": "45239213",
   "metadata": {},
   "outputs": [
    {
     "data": {
      "image/png": "[encoded data removed]",
      "text/plain": [
       "<Figure size 1000x600 with 1 Axes>"
      ]
     },
     "metadata": {},
     "output_type": "display_data"
    }
   ],
   "source": [
    "import matplotlib.pyplot as plt\n",
    "coefficients = model2.coef_[0]\n",
    "features = data.columns  # assuming X is a DataFrame\n",
    "\n",
    "# Sort coefficients by magnitude\n",
    "sorted_idx = np.argsort(np.abs(coefficients))\n",
    "\n",
    "plt.figure(figsize=(10, 6))\n",
    "plt.barh(np.array(features)[sorted_idx], coefficients[sorted_idx])\n",
    "plt.xlabel('Coefficient Value')\n",
    "plt.title('Feature Importance')\n",
    "plt.show()"
   ]
  },
  {
   "cell_type": "code",
   "execution_count": 205,
   "id": "29040989",
   "metadata": {},
   "outputs": [
    {
     "name": "stdout",
     "output_type": "stream",
     "text": [
      "Pregnancies : 0.340\n",
      "Glucose : 0.812\n",
      "BloodPressure : -0.121\n",
      "SkinThickness : 0.039\n",
      "Insulin : 0.008\n",
      "BMI : 0.471\n",
      "DiabetesPedigreeFunction : 0.252\n"
     ]
    }
   ],
   "source": [
    "i=0\n",
    "for col in data.columns[:7]:\n",
    "    print(f'{col} : {model.w[i]:.3f}')\n",
    "    i=i+1"
   ]
  },
  {
   "cell_type": "markdown",
   "id": "89ffdff2",
   "metadata": {},
   "source": [
    "We can infer from the graph that the feature 'Glucose' has the highest importance out of all, in determining wheter a person is diabetic or not. The weight associated to it is thus the highest of all features."
   ]
  }
 ],
 "metadata": {
  "kernelspec": {
   "display_name": "Python 3 (ipykernel)",
   "language": "python",
   "name": "python3"
  },
  "language_info": {
   "codemirror_mode": {
    "name": "ipython",
    "version": 3
   },
   "file_extension": ".py",
   "mimetype": "text/x-python",
   "name": "python",
   "nbconvert_exporter": "python",
   "pygments_lexer": "ipython3",
   "version": "3.11.4"
  }
 },
 "nbformat": 4,
 "nbformat_minor": 5
}
